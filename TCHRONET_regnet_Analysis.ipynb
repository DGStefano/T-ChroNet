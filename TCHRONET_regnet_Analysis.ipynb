{
 "cells": [
  {
   "cell_type": "code",
   "execution_count": null,
   "metadata": {},
   "outputs": [],
   "source": [
    "import sys\n",
    "import pandas as pd\n",
    "import numpy as np\n",
    "import igraph as ig\n",
    "import matplotlib.pyplot as plt\n",
    "import seaborn as sns\n",
    "from os import listdir\n",
    "from scipy.stats import zscore\n",
    "import leidenalg as la\n",
    "\n",
    "\n",
    "sys.path.append(\"./utils\")\n",
    "import tchronet_utils\n",
    "\n",
    "\n",
    "np.random.seed(10)\n",
    "\n",
    "%matplotlib inline"
   ]
  },
  {
   "cell_type": "markdown",
   "metadata": {},
   "source": [
    "Loading Network"
   ]
  },
  {
   "cell_type": "code",
   "execution_count": null,
   "metadata": {},
   "outputs": [],
   "source": [
    "network_path = "
   ]
  },
  {
   "cell_type": "code",
   "execution_count": null,
   "metadata": {},
   "outputs": [],
   "source": [
    "# Load Edge List \n",
    "e = pd.read_hdf( network_path)\n",
    "e_df = e.reset_index()"
   ]
  },
  {
   "cell_type": "code",
   "execution_count": null,
   "metadata": {},
   "outputs": [],
   "source": [
    "G = ig.Graph.TupleList(e_df.itertuples(index=False), directed=False, weights=None, edge_attrs = 'corr')"
   ]
  },
  {
   "cell_type": "markdown",
   "metadata": {},
   "source": [
    "Create Cluster Tree"
   ]
  },
  {
   "cell_type": "code",
   "execution_count": null,
   "metadata": {},
   "outputs": [],
   "source": [
    "steps = [round(x, 2) for x in [0.1 * i for i in range(1, 21 + 1)]]\n",
    "\n",
    "for x in steps :\n",
    "    communities = la.find_partition( G , la.RBConfigurationVertexPartition  , resolution_parameter = x , weights = 'corr' , seed = 1234 ) #la.RBConfigurationVertexPartition la.CPMVertexPartition\n",
    "    if x == 0.1 :\n",
    "        data = {\n",
    "            \"Node\": range(len(G.vs)),\n",
    "            \"Cluster_0.1\": communities.membership\n",
    "        }\n",
    "        cluster_table = pd.DataFrame(data)\n",
    "\n",
    "    else :\n",
    "        cluster_table[ \"Cluster_\" + str(x)] = communities.membership\n",
    "\n",
    "steps_plot = [round(x, 2) for x in [0.1 * i for i in range(1, 19)]]\n",
    "tchronet_utils.plot_clusters_resolution(cluster_table , steps_plot)"
   ]
  },
  {
   "cell_type": "markdown",
   "metadata": {},
   "source": [
    "Check modularity"
   ]
  },
  {
   "cell_type": "code",
   "execution_count": null,
   "metadata": {},
   "outputs": [],
   "source": [
    "resolution_values = np.arange(0.5, 2.6, 0.1)\n",
    "\n",
    "modularity_scores = []\n",
    "for x in list(resolution_values) :\n",
    "    communities = la.find_partition( G , la.RBConfigurationVertexPartition  , resolution_parameter = x , weights = 'corr' , seed = 1234 )\n",
    "    modularity = G.modularity(communities.membership)\n",
    "    modularity_scores.append(modularity)"
   ]
  },
  {
   "cell_type": "code",
   "execution_count": null,
   "metadata": {},
   "outputs": [],
   "source": [
    "# Plot modularity and resolution\n",
    "sns.barplot(x=modularity_scores , y=list(resolution_values) , orient = \"h\" , color = 'black' )\n",
    "# Label the axes\n",
    "plt.xlabel(\"Modularity\")\n",
    "plt.ylabel(\"Resolution\")\n",
    "\n",
    "plt.show()"
   ]
  },
  {
   "cell_type": "markdown",
   "metadata": {},
   "source": [
    "Finding Communities"
   ]
  },
  {
   "cell_type": "code",
   "execution_count": null,
   "metadata": {},
   "outputs": [],
   "source": [
    "communities = la.find_partition( G , la.RBConfigurationVertexPartition  , resolution_parameter = 1.5 , weights = 'corr' , seed = 1234 ) # Change resolution_parameter for higher (e.g. 2) of lower resolution (e.g. 0.3 )"
   ]
  },
  {
   "cell_type": "code",
   "execution_count": null,
   "metadata": {},
   "outputs": [],
   "source": [
    "for x in communities :\n",
    "    if len(x) > 100 :\n",
    "        print(len(x))"
   ]
  },
  {
   "cell_type": "code",
   "execution_count": null,
   "metadata": {},
   "outputs": [],
   "source": [
    "# Example data\n",
    "values =[ len(x) for x in communities if len(x)>100]\n",
    "\n",
    "# Plot\n",
    "sns.barplot(x=values , y=list(range(len(values))) , orient = \"h\" , color = 'black' )\n",
    "\n",
    "# Label the axes\n",
    "plt.xlabel(\"Communities Size\")\n",
    "plt.ylabel(\"Communities\")\n",
    "\n",
    "# plt.savefig(\"/mnt/nas-safu/analysis/PhDsdigiove/method_coAcces/data/CellReport/pictures/communities_size.png\", format=\"png\", dpi=300, bbox_inches=\"tight\")\n",
    "\n",
    "# Show the plot\n",
    "plt.show()"
   ]
  },
  {
   "cell_type": "markdown",
   "metadata": {},
   "source": [
    "Plot Trends"
   ]
  },
  {
   "cell_type": "code",
   "execution_count": null,
   "metadata": {},
   "outputs": [],
   "source": [
    "## Communities Spearman ROwnames\n",
    "communities_list = get_communities_names(G , communities)"
   ]
  },
  {
   "cell_type": "code",
   "execution_count": null,
   "metadata": {},
   "outputs": [],
   "source": [
    "counts_path = "
   ]
  },
  {
   "cell_type": "code",
   "execution_count": null,
   "metadata": {},
   "outputs": [],
   "source": [
    "data_matrix_df = pd.read_csv(counts_path , sep = \"\\t\" , index_col = 0 )\n",
    "\n",
    "plot_trends_zscore( communities_list , data_matrix_df , dim_y = 2 , dim_x=4 , custom_ylim=(-2 , 2))\n",
    "# plt.savefig(\"/mnt/nas-safu/analysis/PhDsdigiove/method_coAcces/data/per_chr_norm/AllComm_allPeaks.png\") "
   ]
  },
  {
   "cell_type": "markdown",
   "metadata": {},
   "source": [
    "Plot Annotations per community"
   ]
  },
  {
   "cell_type": "code",
   "execution_count": null,
   "metadata": {},
   "outputs": [],
   "source": [
    "homer_annotation_path = "
   ]
  },
  {
   "cell_type": "code",
   "execution_count": null,
   "metadata": {},
   "outputs": [],
   "source": [
    "annotation = transform_annotation_homer(homer_annotation_path)\n",
    "final_annotation = genomic_position_stackbar(communities_list, annotation)\n",
    "plt.figure(figsize = (10 , 10 ))\n",
    "#fig , ax = plt.subplots()\n",
    "#fig.set_size_inches(18.5, 10.5)\n",
    "final_annotation.groupby('community_numebr')['GenomicRegion'].value_counts(normalize=True).unstack('GenomicRegion').plot.bar(stacked=True ) \n",
    "plt.legend(loc = 'upper right' , bbox_to_anchor=(1.35, 0.75))\n",
    "\n",
    "#plt.savefig('/mnt/nas-safu/analysis/PhDsdigiove/Vienna/Pictures/stacked_community.png', bbox_inches='tight' , dpi=300)"
   ]
  }
 ],
 "metadata": {
  "language_info": {
   "name": "python"
  }
 },
 "nbformat": 4,
 "nbformat_minor": 2
}
