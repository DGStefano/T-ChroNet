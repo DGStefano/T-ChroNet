{
 "cells": [
  {
   "cell_type": "code",
   "execution_count": null,
   "metadata": {},
   "outputs": [],
   "source": [
    "import pandas as pd\n",
    "import numpy as np\n",
    "import igraph as ig\n",
    "import matplotlib.pyplot as plt\n",
    "import seaborn as sns\n",
    "from os import listdir\n",
    "from scipy.stats import zscore\n",
    "import leidenalg as la\n",
    "np.random.seed(10)\n",
    "\n",
    "%matplotlib inline"
   ]
  },
  {
   "cell_type": "code",
   "execution_count": null,
   "metadata": {},
   "outputs": [],
   "source": [
    "def CreateLinkDf (count_matrix):\n",
    "    count_matrix_turned = count_matrix.T\n",
    "    #Calculate the Pearson Correlation\n",
    "    correlation_matrix = count_matrix_turned.corr().to_numpy().round(decimals=3, out=None)\n",
    "    #Removing self loops\n",
    "    np.fill_diagonal(correlation_matrix, 0)\n",
    "    #Covert the np matrix to padnas df\n",
    "    df = pd.DataFrame(correlation_matrix, columns = list(count_matrix.index), index= list(count_matrix.index))\n",
    "    #Define the edge list\n",
    "    links = df.stack().reset_index()\n",
    "    #Assign the column name as [source , target , value]\n",
    "    links.columns = [\"source\" , \"target\" , \"value\"]\n",
    "    return links\n",
    "\n",
    "def DensityEvaluation (ths , links , verbose=1):\n",
    "    density = []\n",
    "    node_number = []\n",
    "    edge_number = []\n",
    "    average_degree = []\n",
    "    if verbose:\n",
    "        for th in ths :\n",
    "            print(\"starting evaluatiom on {}\".format(th))\n",
    "            links_filtered=links.loc[ (links['value'] > th ) & (links['source'] != links['target']) ]\n",
    "            print(\"rows removed\")\n",
    "            g = ig.Graph.TupleList(links_filtered.itertuples(index=False), directed=False, weights=True)\n",
    "            print(\"netowrk loaded\")\n",
    "            density.append( g.density(loops=False))\n",
    "            node_number.append( g.vcount())\n",
    "            edge_number.append(g.ecount())\n",
    "            average_degree.append(ig.mean(g.degree()))\n",
    "            #delete all the nodes in the graph __> free space and avoid other problems\n",
    "            to_delete_ids = [v.index for v in g.vs ]\n",
    "            g.delete_vertices(to_delete_ids)\n",
    "            print(\"memory cleaned\")\n",
    "            print(\"ended evaluatiom on {}\".format(th))\n",
    "    else :\n",
    "        for th in ths :\n",
    "            links_filtered=links.loc[ (links['value'] > th ) & (links['source'] != links['target']) ]\n",
    "            g = ig.Graph.TupleList(links_filtered.itertuples(index=False), directed=False, weights=True)\n",
    "            density.append( g.density(loops=False))\n",
    "            node_number.append( g.vcount())\n",
    "            edge_number.append(g.ecount())\n",
    "            average_degree.append(ig.mean(g.degree()))\n",
    "            #delete all the nodes in the graph __> free space and avoid other problems\n",
    "            to_delete_ids = [v.index for v in g.vs ]\n",
    "            g.delete_vertices(to_delete_ids)\n",
    "    return density,node_number,edge_number, average_degree\n",
    "\n",
    "\n",
    "def PlotDensity (ths, density,title) :\n",
    "    fig = plt.figure(figsize=(7,5))\n",
    "    color = 'tab:red'\n",
    "    plt.set_title(title)\n",
    "    plt.set_xlabel('tresholds')\n",
    "    plt.set_ylabel('density', color=color)\n",
    "    plt.plot(ths, density, color=color)\n",
    "    plt.tick_params(axis='y', labelcolor=color)\n",
    "    plt.show()\n",
    "\n",
    "\n",
    "def genomic_position_stackbar (communities : list  , annotation_df : pd.DataFrame) : \n",
    "    final_annotation_df = pd.DataFrame()\n",
    "    for num , community in enumerate(communities) :\n",
    "        community_anontation = annotation_df.loc[list(communities)[num],:]\n",
    "        community_anontation[\"community_numebr\"] = \"community_\" + str(num)\n",
    "        final_annotation_df = pd.concat([final_annotation_df  , community_anontation] , axis = 0 )\n",
    "\n",
    "    return final_annotation_df\n",
    "\n",
    "\n",
    "def transform_annotation_homer (path_file : str , filter_up = 0 , filter_down = 0) :\n",
    "    annotation_gene = pd.read_csv(path_file,\n",
    "                         delimiter=\"\\t\")\n",
    "                         \n",
    "    if filter_up != 0 :\n",
    "        annotation_gene = annotation_gene.loc[(annotation_gene[\"Distance to TSS\"] <= filter_up) & (annotation_gene[\"Distance to TSS\"] >= filter_down) , :]\n",
    "\n",
    "    annotation_gene = annotation_gene[[\"Chr\",\"Start\",\"End\" ,'Annotation','Gene Name']]\n",
    "    annotation_gene[['GenomicRegion', '_']] = annotation_gene.Annotation.str.split(\" \\\\(\", expand = True)\n",
    "    annotation_gene['Start'] =  annotation_gene['Start'] -1\n",
    "    annotation_gene[\"Sites\"] = annotation_gene['Chr'].astype(str) +\"-\"+ annotation_gene[\"Start\"].astype(str)+\"-\"+ annotation_gene[\"End\"].astype(str)\n",
    "    annotation_gene.drop( ['Chr','Start','End' , 'Annotation' , '_'] , axis = 1 , inplace=True)\n",
    "    annotation_gene.set_index(\"Sites\" , inplace=True)\n",
    "    return annotation_gene\n",
    "\n",
    "\n",
    "# Loading Communities\n",
    "def loading_comminity_from_folder (path_file : str) :\n",
    "    onlyfiles = [f for f in listdir(path_file)]\n",
    "    communities = pd.DataFrame()\n",
    "    for f in onlyfiles :\n",
    "        df = pd.read_csv(path_file+f ,delimiter=\"\\t\" , names = ['chr','start','end'])\n",
    "        df[\"sites\"] = df['chr'].astype(str) +\"-\"+ df[\"start\"].astype(str)+\"-\"+ df[\"end\"].astype(str)\n",
    "        \n",
    "        df.drop(['chr','start','end'], axis  = 1 , inplace = True)\n",
    "        df['community'] = f.split(\".tsv\")[0]\n",
    "        communities = pd.concat([communities , df])\n",
    "    return communities \n",
    "\n",
    "\n",
    "\n",
    "def set_node_community(G , communities) :\n",
    "    '''Add community to node attributes'''\n",
    "    for c , v_c in enumerate(communities) :\n",
    "        for v in v_c :\n",
    "            #Add 1 to save 0 for external edges\n",
    "            G.nodes[v]['community']= c + 1\n",
    "\n",
    "# Create Subgrphs for each community\n",
    "def communities_subgraphs( G , communities) :\n",
    "    subgraphs_list = []\n",
    "    for community in communities :\n",
    "       subgraphs_list.append(G.subgraph(community))\n",
    "    return subgraphs_list\n",
    "\n",
    "\n",
    "def plot_trends (communities_list : list , count_df : pd.DataFrame , dim_x : int , dim_y : int  , custom_ylim = (-2.5,10)) :\n",
    "    x = 0\n",
    "    community_number = 0\n",
    "    fig, axes = plt.subplots(dim_x, dim_y , figsize=(30, 10) , dpi = 300 , constrained_layout=True)\n",
    "    plt.setp(axes, ylim=custom_ylim)\n",
    "\n",
    "    while x < dim_x :\n",
    "        y = 0\n",
    "        while y < dim_y  :\n",
    "            #print (x,y,community_number)\n",
    "            sns.violinplot(count_df.loc[communities_list[community_number],:] , ax = axes[x , y])\n",
    "            axes[x,y].set_title(  'Community ' + str(community_number), fontstyle='italic')\n",
    "            axes[x,y].set(xlabel=None)\n",
    "            axes[x,y].set(ylabel=\"TMM\")\n",
    "            y = y+1\n",
    "\n",
    "            community_number = community_number + 1 \n",
    "            if community_number == len(communities_list) :\n",
    "                break\n",
    "        x = x + 1\n",
    "\n",
    "\n",
    "def plot_trends_zscore (communities_list_toplot : list , count_df : pd.DataFrame , dim_x : int , dim_y : int , custom_ylim = (-2,2)) :\n",
    "    count_df = count_df.apply(zscore , axis=1)\n",
    "\n",
    "    x = 0\n",
    "    community_number = 0\n",
    "    fig, axes = plt.subplots(dim_x, dim_y , figsize=(30, 10) , dpi = 300 , constrained_layout=True)\n",
    "    \n",
    "    plt.setp(axes, ylim=custom_ylim)\n",
    "\n",
    "    while x < dim_x :\n",
    "        y = 0\n",
    "        while y < dim_y  :\n",
    "            #print (x,y,community_number)\n",
    "            sns.lineplot(pd.melt(count_df.loc[communities_list_toplot[community_number],:]) , x = 'variable' , y = 'value' , ax = axes[x,y] , markers=True) #ax = axes[x,y] #\n",
    "            axes[x,y].set_title(  'Community ' + str(community_number), fontstyle='italic') #x,\n",
    "            axes[x,y].set(xlabel=None) #x,\n",
    "            axes[x,y].set(ylabel=\"Z-score\") #x,\n",
    "\n",
    "            y = y+1\n",
    "\n",
    "            community_number = community_number + 1 \n",
    "            if community_number == len(communities_list_toplot) :\n",
    "                break\n",
    "        x = x + 1\n",
    "\n",
    "\n",
    "def get_communities_names(G , communities) :\n",
    "    communities_list_sp = []\n",
    "    for n , community in enumerate(communities) :\n",
    "        if len(community) > 100 :\n",
    "            community_list = [G.vs[node_pos][\"name\"] for node_pos in community]\n",
    "            communities_list_sp.append(community_list)"
   ]
  },
  {
   "cell_type": "markdown",
   "metadata": {},
   "source": [
    "Loading Network"
   ]
  },
  {
   "cell_type": "code",
   "execution_count": null,
   "metadata": {},
   "outputs": [],
   "source": [
    "network_path = "
   ]
  },
  {
   "cell_type": "code",
   "execution_count": null,
   "metadata": {},
   "outputs": [],
   "source": [
    "# Load Edge List \n",
    "e = pd.read_hdf( network_path)\n",
    "e_df = e.reset_index()"
   ]
  },
  {
   "cell_type": "code",
   "execution_count": null,
   "metadata": {},
   "outputs": [],
   "source": [
    "G = ig.Graph.TupleList(e_df.itertuples(index=False), directed=False, weights=None, edge_attrs = 'corr')"
   ]
  },
  {
   "cell_type": "markdown",
   "metadata": {},
   "source": [
    "Create Cluster Tree"
   ]
  },
  {
   "cell_type": "code",
   "execution_count": null,
   "metadata": {},
   "outputs": [],
   "source": [
    "cluster_tree_out_path = "
   ]
  },
  {
   "cell_type": "code",
   "execution_count": null,
   "metadata": {},
   "outputs": [],
   "source": [
    "for x in np.linspace(0.1 , 2.0 , 21) :\n",
    "    communities = la.find_partition( G , la.RBConfigurationVertexPartition  , resolution_parameter = x , weights = 'corr' , seed = 1234 ) #la.RBConfigurationVertexPartition la.CPMVertexPartition\n",
    "    if x == 0.1 :\n",
    "        data = {\n",
    "            \"Node\": range(len(G.vs)),\n",
    "            \"Cluster_0.1\": communities.membership\n",
    "        }\n",
    "        cluster_table = pd.DataFrame(data)\n",
    "\n",
    "    else :\n",
    "        cluster_table[ \"Cluster_\" + str(x)] = communities.membership\n"
   ]
  },
  {
   "cell_type": "code",
   "execution_count": null,
   "metadata": {},
   "outputs": [],
   "source": [
    "cluster_table.to_csv( cluster_tree_out_path , sep = \"\\t\")"
   ]
  },
  {
   "cell_type": "markdown",
   "metadata": {},
   "source": [
    "Check modularity"
   ]
  },
  {
   "cell_type": "code",
   "execution_count": null,
   "metadata": {},
   "outputs": [],
   "source": [
    "resolution_values = np.arange(0.5, 2.6, 0.1)\n",
    "\n",
    "modularity_scores = []\n",
    "for x in list(resolution_values) :\n",
    "    communities = la.find_partition( G , la.RBConfigurationVertexPartition  , resolution_parameter = x , weights = 'corr' , seed = 1234 )\n",
    "    modularity = G.modularity(communities.membership)\n",
    "    modularity_scores.append(modularity)"
   ]
  },
  {
   "cell_type": "code",
   "execution_count": null,
   "metadata": {},
   "outputs": [],
   "source": [
    "# Plot modularity and resolution\n",
    "sns.barplot(x=modularity_scores , y=list(resolution_values) , orient = \"h\" , color = 'black' )\n",
    "# Label the axes\n",
    "plt.xlabel(\"Modularity\")\n",
    "plt.ylabel(\"Resolution\")\n",
    "\n",
    "plt.show()"
   ]
  },
  {
   "cell_type": "markdown",
   "metadata": {},
   "source": [
    "Finding Communities"
   ]
  },
  {
   "cell_type": "code",
   "execution_count": null,
   "metadata": {},
   "outputs": [],
   "source": [
    "communities = la.find_partition( G , la.RBConfigurationVertexPartition  , resolution_parameter = 1.5 , weights = 'corr' , seed = 1234 ) # Change resolution_parameter for higher (e.g. 2) of lower resolution (e.g. 0.3 )"
   ]
  },
  {
   "cell_type": "code",
   "execution_count": null,
   "metadata": {},
   "outputs": [
    {
     "name": "stdout",
     "output_type": "stream",
     "text": [
      "8814\n",
      "8315\n",
      "7341\n",
      "6689\n",
      "4872\n",
      "4075\n",
      "3340\n"
     ]
    }
   ],
   "source": [
    "for x in communities :\n",
    "    if len(x) > 100 :\n",
    "        print(len(x))"
   ]
  },
  {
   "cell_type": "code",
   "execution_count": null,
   "metadata": {},
   "outputs": [
    {
     "data": {
      "image/png": "[encoded data removed]",
      "text/plain": [
       "<Figure size 640x480 with 1 Axes>"
      ]
     },
     "metadata": {},
     "output_type": "display_data"
    }
   ],
   "source": [
    "# Example data\n",
    "values =[ len(x) for x in communities if len(x)>100]\n",
    "\n",
    "# Plot\n",
    "sns.barplot(x=values , y=list(range(len(values))) , orient = \"h\" , color = 'black' )\n",
    "\n",
    "# Label the axes\n",
    "plt.xlabel(\"Communities Size\")\n",
    "plt.ylabel(\"Communities\")\n",
    "\n",
    "# plt.savefig(\"/mnt/nas-safu/analysis/PhDsdigiove/method_coAcces/data/CellReport/pictures/communities_size.png\", format=\"png\", dpi=300, bbox_inches=\"tight\")\n",
    "\n",
    "# Show the plot\n",
    "plt.show()"
   ]
  },
  {
   "cell_type": "markdown",
   "metadata": {},
   "source": [
    "Plot Trends"
   ]
  },
  {
   "cell_type": "code",
   "execution_count": null,
   "metadata": {},
   "outputs": [],
   "source": [
    "## Communities Spearman ROwnames\n",
    "communities_list = get_communities_names(G , communities)"
   ]
  },
  {
   "cell_type": "code",
   "execution_count": null,
   "metadata": {},
   "outputs": [],
   "source": [
    "counts_path = "
   ]
  },
  {
   "cell_type": "code",
   "execution_count": null,
   "metadata": {},
   "outputs": [],
   "source": [
    "data_matrix_df = pd.read_csv(counts_path , sep = \"\\t\" , index_col = 0 )\n",
    "\n",
    "plot_trends_zscore( communities_list , data_matrix_df , dim_y = 2 , dim_x=4 , custom_ylim=(-2 , 2))\n",
    "# plt.savefig(\"/mnt/nas-safu/analysis/PhDsdigiove/method_coAcces/data/per_chr_norm/AllComm_allPeaks.png\") "
   ]
  },
  {
   "cell_type": "markdown",
   "metadata": {},
   "source": [
    "Plot Annotations per community"
   ]
  },
  {
   "cell_type": "code",
   "execution_count": null,
   "metadata": {},
   "outputs": [],
   "source": [
    "homer_annotation_path = "
   ]
  },
  {
   "cell_type": "code",
   "execution_count": null,
   "metadata": {},
   "outputs": [],
   "source": [
    "annotation = transform_annotation_homer(homer_annotation_path)\n",
    "final_annotation = genomic_position_stackbar(communities_list, annotation)\n",
    "plt.figure(figsize = (10 , 10 ))\n",
    "#fig , ax = plt.subplots()\n",
    "#fig.set_size_inches(18.5, 10.5)\n",
    "final_annotation.groupby('community_numebr')['GenomicRegion'].value_counts(normalize=True).unstack('GenomicRegion').plot.bar(stacked=True ) \n",
    "plt.legend(loc = 'upper right' , bbox_to_anchor=(1.35, 0.75))\n",
    "\n",
    "#plt.savefig('/mnt/nas-safu/analysis/PhDsdigiove/Vienna/Pictures/stacked_community.png', bbox_inches='tight' , dpi=300)"
   ]
  }
 ],
 "metadata": {
  "language_info": {
   "name": "python"
  }
 },
 "nbformat": 4,
 "nbformat_minor": 2
}
