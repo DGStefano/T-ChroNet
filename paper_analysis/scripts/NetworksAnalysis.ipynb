{
 "cells": [
  {
   "cell_type": "code",
   "execution_count": 1,
   "id": "b8bd1236",
   "metadata": {},
   "outputs": [],
   "source": [
    "import os\n",
    "\n",
    "import pandas as pd\n",
    "import igraph as ig\n",
    "import numpy as np\n",
    "import leidenalg as la\n",
    "\n",
    "from scipy.stats import zscore\n",
    "\n",
    "import matplotlib.pyplot as plt\n",
    "import seaborn as sns"
   ]
  },
  {
   "cell_type": "markdown",
   "id": "c498f479",
   "metadata": {},
   "source": [
    "# Functions"
   ]
  },
  {
   "cell_type": "code",
   "execution_count": 2,
   "id": "b5ba61dc",
   "metadata": {},
   "outputs": [],
   "source": [
    "def genomic_position_stackbar (communities : list  , annotation_df : pd.DataFrame) : \n",
    "    final_annotation_df = pd.DataFrame()\n",
    "    for num , community in enumerate(communities) :\n",
    "        community_anontation = annotation_df.loc[list(communities)[num],:]\n",
    "        community_anontation[\"community_numebr\"] = \"community_\" + str(num)\n",
    "        final_annotation_df = pd.concat([final_annotation_df  , community_anontation] , axis = 0 )\n",
    "\n",
    "    return final_annotation_df\n",
    "\n",
    "\n",
    "def transform_annotation_homer (path_file : str , filter_up = 0 , filter_down = 0) :\n",
    "    annotation_gene = pd.read_csv(path_file,\n",
    "                         delimiter=\"\\t\")\n",
    "                         \n",
    "    if filter_up != 0 :\n",
    "        annotation_gene = annotation_gene.loc[(annotation_gene[\"Distance to TSS\"] <= filter_up) & (annotation_gene[\"Distance to TSS\"] >= filter_down) , :]\n",
    "\n",
    "    annotation_gene = annotation_gene[[\"Chr\",\"Start\",\"End\" ,'Annotation','Gene Name']]\n",
    "    annotation_gene[['GenomicRegion', '_']] = annotation_gene.Annotation.str.split(\" \\\\(\", expand = True)\n",
    "    annotation_gene['Start'] =  annotation_gene['Start'] -1\n",
    "    annotation_gene[\"Sites\"] = annotation_gene['Chr'].astype(str) +\"-\"+ annotation_gene[\"Start\"].astype(str)+\"-\"+ annotation_gene[\"End\"].astype(str)\n",
    "    annotation_gene.drop( ['Chr','Start','End' , 'Annotation' , '_'] , axis = 1 , inplace=True)\n",
    "    annotation_gene.set_index(\"Sites\" , inplace=True)\n",
    "    return annotation_gene\n",
    "\n",
    "# check if there is any overlap between communities\n",
    "# Function to check overlaps between two lists of lists\n",
    "def count_overlaps(list1, list2):\n",
    "    overlaps = []\n",
    "    \n",
    "    # Iterate over each pair of sublists\n",
    "    for sublist1 in list1:\n",
    "        overlap_row = []\n",
    "        for sublist2 in list2:\n",
    "            # Find the common elements using set intersection\n",
    "            common_elements = set(sublist1).intersection(sublist2)\n",
    "            overlap_row.append(len(common_elements))  # Count of common elements\n",
    "        overlaps.append(overlap_row)\n",
    "    \n",
    "    return overlaps\n",
    "\n",
    "def overlap_ratios(list1, list2):\n",
    "    ratios = []\n",
    "    \n",
    "    # Iterate over each pair of sublists\n",
    "    for sublist1 in list1:\n",
    "        ratio_row = []\n",
    "        for sublist2 in list2:\n",
    "            # Find the common elements using set intersection\n",
    "            common_elements = set(sublist1).intersection(sublist2)\n",
    "            \n",
    "            # Calculate the ratio of common elements to the size of sublist2\n",
    "            if len(sublist2) > 0:\n",
    "                ratio = len(common_elements) / len(sublist2)\n",
    "            else:\n",
    "                ratio = 0  # Handle edge case where sublist2 is empty (avoid division by zero)\n",
    "            \n",
    "            ratio_row.append(ratio)\n",
    "        ratios.append(ratio_row)\n",
    "    \n",
    "    return ratios\n",
    "\n",
    "\n",
    "def loading_comminity_from_folder (path_file : str) :\n",
    "    onlyfiles = [f for f in os.listdir(path_file)]\n",
    "    communities = pd.DataFrame()\n",
    "    for f in onlyfiles :\n",
    "        df = pd.read_csv(path_file+f ,delimiter=\"\\t\" , names = ['chr','start','end'])\n",
    "        df[\"sites\"] = df['chr'].astype(str) +\"-\"+ df[\"start\"].astype(str)+\"-\"+ df[\"end\"].astype(str)\n",
    "        \n",
    "        df.drop(['chr','start','end'], axis  = 1 , inplace = True)\n",
    "        df['community'] = f.split(\".tsv\")[0]\n",
    "        communities = pd.concat([communities , df])\n",
    "    return communities "
   ]
  },
  {
   "cell_type": "markdown",
   "id": "698b3adb",
   "metadata": {},
   "source": [
    "# THP1 analysis"
   ]
  },
  {
   "cell_type": "code",
   "execution_count": 5,
   "id": "3b3b37d7",
   "metadata": {},
   "outputs": [],
   "source": [
    "# Loading correlation matrix\n",
    "e = pd.read_hdf('/mnt/nas-safu/analysis/PhDsdigiove/method_coAcces/data/CellReport/out_mutlicov_matrix/lognorm_edgeR_limma_countsInCellReport_TheiCounts_NoStatic_mean_Spearman.h5')\n",
    "e_df = e.reset_index()\n",
    "\n",
    "# Freeing space\n",
    "del e"
   ]
  },
  {
   "cell_type": "code",
   "execution_count": 6,
   "id": "8f45f7cb",
   "metadata": {},
   "outputs": [],
   "source": [
    "# Loading correlation matrix into a ig.Graph\n",
    "G = ig.Graph.TupleList(e_df.itertuples(index=False), directed=False, weights=None, edge_attrs = 'corr')"
   ]
  },
  {
   "cell_type": "code",
   "execution_count": 7,
   "id": "f0ba55ad",
   "metadata": {},
   "outputs": [
    {
     "name": "stdout",
     "output_type": "stream",
     "text": [
      "43446\n",
      "80873018\n",
      "0.08569274336648137\n"
     ]
    }
   ],
   "source": [
    "# Evaluating network characteristics\n",
    "print(G.vcount())\n",
    "print(G.ecount())\n",
    "print(G.density())"
   ]
  },
  {
   "cell_type": "markdown",
   "id": "77c8fe3e",
   "metadata": {},
   "source": [
    "## Evaluating Best resolution parameters"
   ]
  },
  {
   "cell_type": "code",
   "execution_count": null,
   "id": "adfbe1fe",
   "metadata": {},
   "outputs": [],
   "source": [
    "for x in np.linspace(0.1 , 2.0 , 21) :\n",
    "    communities = la.find_partition( G , la.RBConfigurationVertexPartition  , resolution_parameter = x , weights = 'corr' , seed = 1234 ) #la.RBConfigurationVertexPartition la.CPMVertexPartition\n",
    "    if x == 0.1 :\n",
    "        data = {\n",
    "            \"Node\": range(len(G.vs)),\n",
    "            \"Cluster_0.1\": communities.membership\n",
    "        }\n",
    "        cluster_table = pd.DataFrame(data)\n",
    "\n",
    "    else :\n",
    "        cluster_table[ \"Cluster_\" + str(x)] = communities.membership\n"
   ]
  },
  {
   "cell_type": "code",
   "execution_count": null,
   "id": "822c6a9d",
   "metadata": {},
   "outputs": [],
   "source": [
    "cluster_table.to_csv(\"/mnt/nas-safu/analysis/PhDsdigiove/method_coAcces/data/CellReport/communities_k27/res_1_5/cluster_tree_all_res.tsv\" , sep = \"\\t\")"
   ]
  },
  {
   "cell_type": "code",
   "execution_count": null,
   "id": "5b464714",
   "metadata": {},
   "outputs": [],
   "source": [
    "modularity_score = []\n",
    "for x in list(np.arange(0.1 , 2.0 , 21)) :\n",
    "    communities = la.find_partition( G , la.RBConfigurationVertexPartition  , resolution_parameter = x , weights = 'corr' , seed = 1234 ) #la.RBConfigurationVertexPartition la.CPMVertexPartition\n",
    "    modularity = G.modularity(communities.membership)\n",
    "    modularity_score.append(modularity)"
   ]
  },
  {
   "cell_type": "code",
   "execution_count": null,
   "id": "b5c3fc6d",
   "metadata": {},
   "outputs": [],
   "source": [
    "plt.plot(np.arange(0.1 , 2.0 , 21) , modularity_score)"
   ]
  },
  {
   "cell_type": "markdown",
   "id": "cfe34cf7",
   "metadata": {},
   "source": [
    "## Community Detection"
   ]
  },
  {
   "cell_type": "code",
   "execution_count": 8,
   "id": "6661632a",
   "metadata": {},
   "outputs": [],
   "source": [
    "communities = la.find_partition( G , la.RBConfigurationVertexPartition  , resolution_parameter = 1.5 , weights = 'corr' , seed = 1234 )"
   ]
  },
  {
   "cell_type": "code",
   "execution_count": 9,
   "id": "703566f1",
   "metadata": {},
   "outputs": [
    {
     "name": "stdout",
     "output_type": "stream",
     "text": [
      "8814\n",
      "8315\n",
      "7341\n",
      "6689\n",
      "4872\n",
      "4075\n",
      "3340\n"
     ]
    }
   ],
   "source": [
    "for x in communities :\n",
    "    if len(x) > 100 :\n",
    "        print(len(x))"
   ]
  },
  {
   "cell_type": "code",
   "execution_count": null,
   "id": "5938d26d",
   "metadata": {},
   "outputs": [],
   "source": [
    "values =[ len(x) for x in communities if len(x)>100]\n",
    "\n",
    "sns.barplot(x=values , y=list(range(len(values))) , orient = \"h\" , color = 'black' )\n",
    "\n",
    "# Setting Lables\n",
    "plt.xlabel(\"Communities Size\")\n",
    "plt.ylabel(\"Communities\")\n",
    "\n",
    "#plt.savefig(\"/mnt/nas-safu/analysis/PhDsdigiove/method_coAcces/data/CellReport/pictures/communities_size.png\", format=\"png\", dpi=300, bbox_inches=\"tight\")\n",
    "\n",
    "# Show plot\n",
    "plt.show()"
   ]
  },
  {
   "cell_type": "code",
   "execution_count": null,
   "id": "2133e3cf",
   "metadata": {},
   "outputs": [],
   "source": [
    "## Communities Spearman ROwnames\n",
    "communities_list_sp = []\n",
    "for n , community in enumerate(communities) :\n",
    "    if len(community) > 100 :\n",
    "        community_list = [G.vs[node_pos][\"name\"] for node_pos in community]\n",
    "        communities_list_sp.append(community_list)"
   ]
  },
  {
   "cell_type": "markdown",
   "id": "f1f3a61f",
   "metadata": {},
   "source": [
    "## Overlaps with known communities"
   ]
  },
  {
   "cell_type": "code",
   "execution_count": null,
   "id": "20447098",
   "metadata": {},
   "outputs": [],
   "source": [
    "sites_th1_cellreport = pd.read_csv(\"/mnt/nas-safu/analysis/PhDsdigiove/method_coAcces/data/CellReport/their_regions_timepoints.bed\" , sep = \"\\t\" , header = None , names = ['chromosome' , 'start','end','annotation'])\n",
    "data_matrix_df = pd.read_csv(\"/mnt/nas-safu/analysis/PhDsdigiove/method_coAcces/data/CellReport/out_mutlicov_matrix/lognorm_edgeR_limma_countsInCellReport_TheiCounts_NoStatic_mean.tsv\" , sep = \"\\t\" , index_col = \"peaks\" )\n",
    "\n",
    "\n",
    "sites_th1_cellreport[\"sites\"] = sites_th1_cellreport['chromosome'].astype(str) +\"-\"+ sites_th1_cellreport[\"start\"].astype(str)+\"-\"+ sites_th1_cellreport[\"end\"].astype(str)\n",
    "sites_th1_cellreport = sites_th1_cellreport[['sites' , 'annotation']]\n",
    "sites_th1_cellreport = sites_th1_cellreport.drop_duplicates('sites')\n",
    "mask = sites_th1_cellreport['sites'].isin(data_matrix_df.index)\n",
    "sites_th1_cellreport = sites_th1_cellreport.loc[mask ,]"
   ]
  },
  {
   "cell_type": "code",
   "execution_count": null,
   "id": "56444de5",
   "metadata": {},
   "outputs": [],
   "source": [
    "communities_list_comparison =[]\n",
    "communities_name = []\n",
    "for x in ['dn.early','dn.grad','dn.mid','dn.var','up.grad','up.late','up.mid','up.var'] : #list(set(sites_th1_cellreport['annotation']))\n",
    "    df_sel = sites_th1_cellreport.loc[ sites_th1_cellreport['annotation'] == x , :]\n",
    "    communities_list_comparison.append(list(df_sel[\"sites\"]))\n",
    "    communities_name.append(x)"
   ]
  },
  {
   "cell_type": "code",
   "execution_count": null,
   "id": "94679ca6",
   "metadata": {},
   "outputs": [],
   "source": [
    "overlap_counts_sp_control = overlap_ratios(communities_list_comparison , communities_list_sp )#communities_list_to_plot_annotations\n",
    "overlap_counts_sp_control = np.transpose(overlap_counts_sp_control)\n",
    "#plt.imshow(overlap_counts_sp_control, interpolation='nearest') \n",
    "#plt.figure(figsize = (9,9))\n",
    "sns.heatmap(np.round(overlap_counts_sp_control,2), annot=True, cmap=\"viridis\", cbar=True ,  xticklabels=communities_name )\n",
    "\n",
    "# Add colorbar \n",
    "#plt.colorbar() \n",
    "  \n",
    "# plt.title(\"Heatmap with color bar\") \n",
    "# plt.savefig(\"/mnt/nas-safu/analysis/PhDsdigiove/method_coAcces/data/CellReport/pictures/Overlap_communities_and_mine.png\", bbox_inches='tight' , dpi=300)\n",
    "plt.show() "
   ]
  },
  {
   "cell_type": "markdown",
   "id": "6f2906b3",
   "metadata": {},
   "source": [
    "## Plotting Communities Trends"
   ]
  },
  {
   "cell_type": "code",
   "execution_count": null,
   "id": "324aae05",
   "metadata": {},
   "outputs": [],
   "source": [
    "for x in range(0,7) :\n",
    "    data_matrix_df_k27 = pd.read_csv(\"/mnt/nas-safu/analysis/PhDsdigiove/method_coAcces/data/CellReport/out_mutlicov_matrix/lognorm_edgeR_limma_countsInCellReport_TheiCounts_mean.tsv\" , sep = \"\\t\" , index_col = \"peaks\" )\n",
    "    count_df = data_matrix_df_k27.loc[communities_list_sp[x],:].apply(zscore , axis=1)\n",
    "    count_df = count_df.stack().reset_index()\n",
    "    count_df.columns = ['peaks','variable', 'value']\n",
    "    count_df['community'] = str(x)\n",
    "    \n",
    "    if x == 0 :\n",
    "        final_df = count_df\n",
    "    else :\n",
    "        final_df = pd.concat([final_df , count_df])\n",
    "\n",
    "plt.figure(figsize=(20, 12))\n",
    "\n",
    "# Create the violin plot\n",
    "#sns.violinplot(data=final_df,x=\"variable\", y=\"value\", hue=\"community\", scale='width', inner=None)\n",
    "\n",
    "# Facet by Cluster\n",
    "g = sns.FacetGrid(data=final_df,row='community', sharey=False, height=3, aspect=2, despine=False) \n",
    "g.map_dataframe(sns.violinplot,x=\"variable\", y=\"value\", hue=\"community\", scale='width', fill=False , color = 'gray')\n",
    "g.map_dataframe(sns.lineplot,  x = 'variable' , y = 'value' , markers=False , color='black' , lw=2)\n",
    "g.figure.subplots_adjust(wspace=0, hspace=0.1)\n",
    "g.set_axis_labels(\"\", \"Accessibilty Z-score\") \n",
    "g.set_titles(row_template=\"\")\n",
    "\n",
    "# Customize aesthetics\n",
    "for ax in g.axes.flat:\n",
    "    ax.set_xticklabels(ax.get_xticklabels(), rotation=90, ha='right')\n",
    "    ax.set_xlabel(\"variable\")\n",
    "    ax.spines['top'].set_visible(False)\n",
    "    ax.spines['right'].set_visible(False)\n",
    "    ax.spines['bottom'].set_color('black')\n",
    "    ax.spines['left'].set_color('black')\n",
    "\n",
    "g.despine(left=True)\n",
    "# plt.savefig('/mnt/nas-safu/analysis/PhDsdigiove/method_coAcces/data/CellReport/pictures/stacked_trends.png', bbox_inches='tight' , dpi=300)\n",
    "plt.show()"
   ]
  },
  {
   "cell_type": "code",
   "execution_count": null,
   "id": "bb9d40f4",
   "metadata": {},
   "outputs": [],
   "source": [
    "# Plotting Genomic Annotations\n",
    "annotation = transform_annotation_homer(\"/mnt/nas-safu/analysis/PhDsdigiove/method_coAcces/data/CellReport/consensus_peaks_TH_cellreport_annotations.txt\")\n",
    "final_annotation_prova = genomic_position_stackbar(communities_list_sp, annotation) #_noPC\n",
    "plt.figure(figsize = (10 , 10 ))\n",
    "#fig , ax = plt.subplots()\n",
    "#fig.set_size_inches(18.5, 10.5)\n",
    "final_annotation_prova.groupby('community_numebr')['GenomicRegion'].value_counts(normalize=True).unstack('GenomicRegion').plot.bar(stacked=True ) \n",
    "plt.legend(loc = 'upper right' , bbox_to_anchor=(1.35, 0.75))\n",
    "\n",
    "#plt.savefig('/mnt/nas-safu/analysis/PhDsdigiove/Vienna/Pictures/stacked_community.png', bbox_inches='tight' , dpi=300)"
   ]
  },
  {
   "cell_type": "code",
   "execution_count": null,
   "id": "4e52766e",
   "metadata": {},
   "outputs": [],
   "source": [
    "# Save Community to files\n",
    "for comm_number,commnity in enumerate(communities_list_sp) :\n",
    "    if len(commnity) > 100:\n",
    "        save_path = \"/mnt/nas-safu/analysis/PhDsdigiove/method_coAcces/data/CellReport/communities_res_08_bothrep/community\" + str(comm_number) + \".bed\" \n",
    "        with open(save_path, 'w') as f:\n",
    "            for line in commnity:\n",
    "                line = line.split('-')\n",
    "                line = '\\t'.join(line)\n",
    "                f.write(f\"{line}\\n\")"
   ]
  },
  {
   "cell_type": "markdown",
   "id": "956d353e",
   "metadata": {},
   "source": [
    "## Plot relations ATAC and RNA"
   ]
  },
  {
   "cell_type": "code",
   "execution_count": null,
   "id": "039534bf",
   "metadata": {},
   "outputs": [],
   "source": [
    "data_matrix_df_genes = pd.read_csv(\"/mnt/nas-safu/analysis/PhDsdigiove/method_coAcces/data/CellReport/out_mutlicov_matrix/Genes_lognorm_edgeR_limma_countsInCellReport_TheiCounts_All_mean.tsv\" , sep = \"\\t\" , index_col = \"hgnc\" )\n",
    "data_matrix_df_genes = data_matrix_df_genes.loc[communities_list_sp[2],:].reset_index().drop(columns = 'hgnc')\n",
    "data_matrix_df_genes['Dataset'] = 'RNAseq'\n",
    "\n",
    "data_matrix_df_k27 = pd.read_csv(\"/mnt/nas-safu/analysis/PhDsdigiove/method_coAcces/data/CellReport/out_mutlicov_matrix/lognorm_edgeR_limma_countsInCellReport_TheiCounts_NoStatic_mean.tsv\" , sep = \"\\t\" , index_col = \"peaks\" )\n",
    "data_matrix_df_k27 = data_matrix_df_k27.loc[communities_list_sp_h3k27.loc[communities_list_sp_h3k27['community'] == 'community0.bed', 'sites'],:].reset_index().drop(columns = 'peaks')\n",
    "data_matrix_df_k27['Dataset'] = 'H3K27'\n",
    "\n",
    "final_df = pd.concat([data_matrix_df_genes ,data_matrix_df_k27] , axis = 0)"
   ]
  },
  {
   "cell_type": "code",
   "execution_count": null,
   "id": "25d0fb59",
   "metadata": {},
   "outputs": [],
   "source": [
    "comm0 = transform_annotation_homer(\"/mnt/nas-safu/analysis/PhDsdigiove/method_coAcces/data/CellReport/communities_k27/res_1_5/annotated_feature/community1.txt\")\n",
    "target_regions = list(set(list(comm0.index)))\n",
    "target_genes = list(set(list(comm0[\"Gene Name\"])))\n",
    "data_matrix_df_genes = pd.read_csv(\"/mnt/nas-safu/analysis/PhDsdigiove/method_coAcces/data/CellReport/out_mutlicov_matrix/Genes_lognorm_edgeR_limma_countsInCellReport_TheiCounts_All_mean.tsv\" , sep = \"\\t\" , index_col = \"hgnc\" )\n",
    "target_genes_trans = [x for x in target_genes if x in list(data_matrix_df_genes.index)]\n",
    "data_matrix_df_genes = data_matrix_df_genes.loc[target_genes_trans,:].reset_index().drop(columns = 'hgnc')\n",
    "data_matrix_df_genes['Dataset'] = 'RNAseq'\n",
    "data_matrix_df_k27 = pd.read_csv(\"/mnt/nas-safu/analysis/PhDsdigiove/method_coAcces/data/CellReport/out_mutlicov_matrix/lognorm_edgeR_limma_countsInCellReport_TheiCounts_NoStatic_mean.tsv\" , sep = \"\\t\" , index_col = \"peaks\" )\n",
    "data_matrix_df_k27 = data_matrix_df_k27.loc[target_regions,:].reset_index().drop(columns = 'peaks')\n",
    "data_matrix_df_k27['Dataset'] = 'H3K27'\n",
    "\n",
    "final_df = pd.concat([data_matrix_df_genes ,data_matrix_df_k27] , axis = 0)\n",
    "#only_genes_in_comm3RNA_comm1ATAC\n",
    "final_df2 = final_df.iloc[: , 0:-1].apply(zscore , axis=1)\n",
    "final_df2['Dataset'] = final_df['Dataset']\n",
    "sns.lineplot(pd.melt(final_df2, id_vars = ['Dataset']) , x = 'variable' , y = 'value'  , hue = 'Dataset', markers=True) \n",
    "plt.gca().set_xticklabels(['0min','30min','60min','90min','120min','240min','360min','1440min'])\n",
    "print(data_matrix_df_genes.shape)\n",
    "\n",
    "#plt.savefig('/mnt/nas-safu/analysis/PhDsdigiove/method_coAcces/data/CellReport/pictures/comm1_ATAC_RNA.png', bbox_inches='tight' , dpi=300)"
   ]
  },
  {
   "cell_type": "markdown",
   "id": "e3734420",
   "metadata": {},
   "source": [
    "# Liver Development"
   ]
  },
  {
   "cell_type": "code",
   "execution_count": null,
   "id": "a592b5ef",
   "metadata": {},
   "outputs": [],
   "source": [
    "# load correlation table\n",
    "e = pd.read_hdf('/mnt/nas-safu/analysis/PhDsdigiove/method_coAcces/data/liver_devel_mouse_ENCODE/network_files/normalized_samplemean_multicov_all_sites_all_timepoint.h5')\n",
    "e_df = e.reset_index()\n",
    "del e"
   ]
  },
  {
   "cell_type": "code",
   "execution_count": null,
   "id": "33c0fa33",
   "metadata": {},
   "outputs": [],
   "source": [
    "G = ig.Graph.TupleList(e_df.itertuples(index=False), directed=False, weights=None, edge_attrs = 'corr')"
   ]
  },
  {
   "cell_type": "code",
   "execution_count": null,
   "id": "803d8ca6",
   "metadata": {},
   "outputs": [],
   "source": [
    "print(len(list(G.vs)))\n",
    "print(len(list(G.es)))\n",
    "print(G.density())"
   ]
  },
  {
   "cell_type": "markdown",
   "id": "a9fbe031",
   "metadata": {},
   "source": [
    "## Evaluating Best resolution parameters"
   ]
  },
  {
   "cell_type": "code",
   "execution_count": null,
   "id": "2e39a031",
   "metadata": {},
   "outputs": [],
   "source": [
    "modularity_score = []\n",
    "for x in list(np.arange(0.1, 2.0, 0.1)) :\n",
    "    communities = la.find_partition( G , la.RBConfigurationVertexPartition  , resolution_parameter = x , weights = 'corr' , seed = 1234 ) #la.RBConfigurationVertexPartition la.CPMVertexPartition\n",
    "    modularity = G.modularity(communities.membership)\n",
    "    modularity_score.append(modularity)\n",
    "\n",
    "plt.plot(np.arange(0.1, 2.0, 0.1) , modularity_score)"
   ]
  },
  {
   "cell_type": "code",
   "execution_count": null,
   "id": "623faad1",
   "metadata": {},
   "outputs": [],
   "source": [
    "for x in np.linspace(0.1 , 2.0 , 21) :\n",
    "    communities = la.find_partition( G , la.RBConfigurationVertexPartition  , resolution_parameter = x , weights = 'corr' , seed = 1234 ) #la.RBConfigurationVertexPartition la.CPMVertexPartition\n",
    "    if x == 0.1 :\n",
    "        data = {\n",
    "            \"Node\": range(len(G.vs)),\n",
    "            \"Cluster_0.1\": communities.membership\n",
    "        }\n",
    "        cluster_table = pd.DataFrame(data)\n",
    "\n",
    "    else :\n",
    "        cluster_table[ \"Cluster_\" + str(x)] = communities.membership\n",
    "\n",
    "# cluster_table.to_csv(\"/mnt/nas-safu/analysis/PhDsdigiove/method_coAcces/data/liver_devel_mouse_ENCODE/communities/cluster_tree_all_res.tsv\" , sep = \"\\t\")\n"
   ]
  },
  {
   "cell_type": "markdown",
   "id": "f9cf6c5a",
   "metadata": {},
   "source": [
    "## Community Detection"
   ]
  },
  {
   "cell_type": "code",
   "execution_count": null,
   "id": "4461b152",
   "metadata": {},
   "outputs": [],
   "source": [
    "communities = la.find_partition( G , la.RBConfigurationVertexPartition  , resolution_parameter = 0.8 , weights = 'corr' , seed = 1234 ) #la.RBConfigurationVertexPartition la.CPMVertexPartition\\"
   ]
  },
  {
   "cell_type": "code",
   "execution_count": null,
   "id": "ca713e76",
   "metadata": {},
   "outputs": [],
   "source": [
    "for x in communities :\n",
    "    if len(x) > 100 :\n",
    "        print(len(x))"
   ]
  },
  {
   "cell_type": "code",
   "execution_count": null,
   "id": "2f125da0",
   "metadata": {},
   "outputs": [],
   "source": [
    "## Communities Spearman ROwnames\n",
    "communities_list_sp = []\n",
    "for n , community in enumerate(communities) :\n",
    "    if len(community) > 100 :\n",
    "        community_list = [G.vs[node_pos][\"name\"] for node_pos in community]\n",
    "        communities_list_sp.append(community_list)"
   ]
  },
  {
   "cell_type": "code",
   "execution_count": null,
   "id": "10070b2c",
   "metadata": {},
   "outputs": [],
   "source": [
    "# Example data\n",
    "values =[ len(x) for x in communities_list_sp if len(x)>100]\n",
    "\n",
    "# Plot\n",
    "sns.barplot(x=values , y=list(range(len(values))) , orient = \"h\" , color = 'black' )\n",
    "\n",
    "# Label the axes\n",
    "plt.xlabel(\"Communities Size\")\n",
    "plt.ylabel(\"Communities\")\n",
    "\n",
    "# plt.savefig(\"/mnt/nas-safu/analysis/PhDsadigiove/method_coAcces/data/liver_devel_mouse_ENCODE/communities/res_0_8/communities_size_08_final.png\", format=\"png\", dpi=300, bbox_inches=\"tight\")\n",
    "\n",
    "# Show the plot\n",
    "plt.show()"
   ]
  },
  {
   "cell_type": "markdown",
   "id": "19247cad",
   "metadata": {},
   "source": [
    "## Plotting Communities Trends"
   ]
  },
  {
   "cell_type": "code",
   "execution_count": null,
   "id": "3fa98ba6",
   "metadata": {},
   "outputs": [],
   "source": [
    "for x in range(0,5) :\n",
    "    data_matrix_df_k27 = pd.read_csv(\"/mnt/nas-safu/analysis/PhDsdigiove/method_coAcces/data/liver_devel_mouse_ENCODE/network_files/normalized_samplemean_multicov_all_sites_all_timepoint.tsv\" , sep = \"\\t\" , index_col = \"peaks\" )\n",
    "    count_df = data_matrix_df_k27.loc[communities_list_sp[x],:].apply(zscore , axis=1)\n",
    "    count_df = count_df.stack().reset_index()\n",
    "    count_df.columns = ['peaks','variable', 'value']\n",
    "    count_df['community'] = str(x)\n",
    "    \n",
    "    if x == 0 :\n",
    "        final_df = count_df\n",
    "    else :\n",
    "        final_df = pd.concat([final_df , count_df])\n",
    "\n",
    "plt.figure(figsize=(20, 12))\n",
    "\n",
    "# Create the violin plot\n",
    "#sns.violinplot(data=final_df,x=\"variable\", y=\"value\", hue=\"community\", scale='width', inner=None)\n",
    "\n",
    "# Facet by Cluster\n",
    "g = sns.FacetGrid(data=final_df,row='community', sharey=False, height=3, aspect=2, despine=False) \n",
    "g.map_dataframe(sns.violinplot,x=\"variable\", y=\"value\", hue=\"community\", scale='width', fill=False , color = 'gray')\n",
    "g.map_dataframe(sns.lineplot,  x = 'variable' , y = 'value' , markers=False , color='black' , lw=2)\n",
    "g.figure.subplots_adjust(wspace=0, hspace=0.1)\n",
    "g.set_axis_labels(\"\", \"Accessibilty Z-score\") \n",
    "g.set_titles(row_template=\"\")\n",
    "\n",
    "# Customize aesthetics\n",
    "for ax in g.axes.flat:\n",
    "    ax.set_xticklabels(ax.get_xticklabels(), rotation=90, ha='right')\n",
    "    ax.set_xlabel(\"variable\")\n",
    "    ax.spines['top'].set_visible(False)\n",
    "    ax.spines['right'].set_visible(False)\n",
    "    ax.spines['bottom'].set_color('black')\n",
    "    ax.spines['left'].set_color('black')\n",
    "\n",
    "g.despine(left=True)\n",
    "plt.savefig('/mnt/nas-safu/analysis/PhDsdigiove/method_coAcces/data/liver_devel_mouse_ENCODE/pictures/violin_trends_08/stacked_trends.png', bbox_inches='tight' , dpi=300)\n",
    "\n",
    "plt.show()"
   ]
  },
  {
   "cell_type": "code",
   "execution_count": null,
   "id": "3fa4eaed",
   "metadata": {},
   "outputs": [],
   "source": [
    "files = os.listdir('/mnt/nas-safu/analysis/PhDsdigiove/method_coAcces/data/liver_devel_mouse_ENCODE/communities/res_0_8/homer_annotations/')\n",
    "i = 0\n",
    "for f in files:\n",
    "    et = transform_annotation_homer('/mnt/nas-safu/analysis/PhDsdigiove/method_coAcces/data/liver_devel_mouse_ENCODE/communities/res_0_8/homer_annotations/{}'.format(f))\n",
    "    et['community'] = f\n",
    "\n",
    "    if i == 0 :\n",
    "        final_df_annot = et\n",
    "    else :\n",
    "        final_df_annot = pd.concat([final_df_annot , et ])\n",
    "    i = 1\n",
    "\n",
    "final_annotation_prova = genomic_position_stackbar(communities_list_sp, final_df_annot) #_noPC\n",
    "\n",
    "x_var, y_var = \"community_numebr\", \"GenomicRegion\"\n",
    "df_grouped = final_annotation_prova.groupby(x_var)[y_var].value_counts(normalize=True).unstack(y_var)\n",
    "df_grouped = df_grouped.iloc[::-1]\n",
    "df_grouped.plot.barh(stacked=True)\n",
    "plt.legend(\n",
    "    bbox_to_anchor=(0.5, 1.02),\n",
    "    loc=\"lower center\",\n",
    "    borderaxespad=0,\n",
    "    frameon=False,\n",
    "    ncol=3,\n",
    ")\n",
    "for ix, row in df_grouped.reset_index(drop=True).iterrows():\n",
    "    cumulative = 0\n",
    "    for element in row:\n",
    "        if element == element and element > 0.1:\n",
    "            plt.text(\n",
    "                cumulative + element / 2,\n",
    "                ix,\n",
    "                f\"{int(element * 100)} %\",\n",
    "                va=\"center\",\n",
    "                ha=\"center\",\n",
    "            )\n",
    "        cumulative += element\n",
    "plt.tight_layout()\n",
    "# plt.savefig('/mnt/nas-safu/analysis/PhDsdigiove/method_coAcces/data/liver_devel_mouse_ENCODE/pictures/stacked_community_inverted_res_0_8.png', bbox_inches='tight' , dpi=300)"
   ]
  },
  {
   "cell_type": "markdown",
   "id": "b1926b67",
   "metadata": {},
   "source": [
    "# B-ALL analysis"
   ]
  },
  {
   "cell_type": "code",
   "execution_count": null,
   "id": "f9e0ec48",
   "metadata": {},
   "outputs": [],
   "source": [
    "# load correlation table\n",
    "e = pd.read_hdf('/mnt/nas-safu/analysis/PhDsdigiove/method_coAcces/data/BALL/allPatientsPatientsNOMERGED_Ball_Multicov_nfcore_05.h5')\n",
    "e_df = e.reset_index()\n",
    "del e"
   ]
  },
  {
   "cell_type": "code",
   "execution_count": null,
   "id": "27da7c41",
   "metadata": {},
   "outputs": [],
   "source": [
    "G = ig.Graph.TupleList(e_df.itertuples(index=False), directed=False, weights=None, edge_attrs = 'corr')"
   ]
  },
  {
   "cell_type": "code",
   "execution_count": null,
   "id": "1762cf4c",
   "metadata": {},
   "outputs": [],
   "source": [
    "print(len(list(G.vs)))\n",
    "print(len(list(G.es)))\n",
    "print(G.density())"
   ]
  },
  {
   "cell_type": "markdown",
   "id": "062c7eec",
   "metadata": {},
   "source": [
    "## Evaluating Best resolution parameters"
   ]
  },
  {
   "cell_type": "code",
   "execution_count": null,
   "id": "8bf207c7",
   "metadata": {},
   "outputs": [],
   "source": [
    "modularity_score = []\n",
    "community_number = []\n",
    "for x in list(np.arange(0.1, 2.0, 0.1)) :\n",
    "    communities = la.find_partition( G , la.RBConfigurationVertexPartition  , resolution_parameter = x , weights = 'corr' , seed = 1234 ) #la.RBConfigurationVertexPartition la.CPMVertexPartition\n",
    "    modularity = G.modularity(communities.membership)\n",
    "    modularity_score.append(modularity)\n",
    "    community_number.append(len(list(set(communities.membership))))\n",
    "    if x == 0.1 :\n",
    "        data = {\n",
    "            \"Node\": range(len(G.vs)),\n",
    "            \"Cluster_0.1\": communities.membership\n",
    "        }\n",
    "        cluster_table = pd.DataFrame(data)\n",
    "\n",
    "    else :\n",
    "        cluster_table[ \"Cluster_\" + str(x)] = communities.membership"
   ]
  },
  {
   "cell_type": "code",
   "execution_count": null,
   "id": "c19d68a1",
   "metadata": {},
   "outputs": [],
   "source": [
    "cluster_table.to_csv(\"/mnt/nas-safu/analysis/PhDsdigiove/method_coAcces/data/liver_devel_mouse_ENCODE/communities/cluster_tree_all_res_th05_nfcore.tsv\" , sep = \"\\t\")"
   ]
  },
  {
   "cell_type": "code",
   "execution_count": null,
   "id": "ad14ab0f",
   "metadata": {},
   "outputs": [],
   "source": [
    "plt.plot(np.arange(0.1, 2.0, 0.1) , modularity_score)"
   ]
  },
  {
   "cell_type": "markdown",
   "id": "9032dc73",
   "metadata": {},
   "source": [
    "## Community detection"
   ]
  },
  {
   "cell_type": "code",
   "execution_count": null,
   "id": "2e71856b",
   "metadata": {},
   "outputs": [],
   "source": [
    "communities = la.find_partition( G , la.RBConfigurationVertexPartition  , resolution_parameter = 0.9 , weights = 'corr' , seed = 1234 )"
   ]
  },
  {
   "cell_type": "code",
   "execution_count": null,
   "id": "db57147d",
   "metadata": {},
   "outputs": [],
   "source": [
    "## Communities Spearman ROwnames\n",
    "communities_list_sp = []\n",
    "for n , community in enumerate(communities) :\n",
    "    if len(community) > 100 :\n",
    "        community_list = [G.vs[node_pos][\"name\"] for node_pos in community]\n",
    "        communities_list_sp.append(community_list)"
   ]
  },
  {
   "cell_type": "code",
   "execution_count": null,
   "id": "3b677d42",
   "metadata": {},
   "outputs": [],
   "source": [
    "# Example data\n",
    "values =[ len(x) for x in communities_list_sp if len(x)>100]\n",
    "\n",
    "# Plot\n",
    "sns.barplot(x=values , y=list(range(len(values))) , orient = \"h\" , color = 'black' )\n",
    "\n",
    "# Label the axes\n",
    "plt.xlabel(\"Communities Size\")\n",
    "plt.ylabel(\"Communities\")\n",
    "\n",
    "# plt.savefig(\"/mnt/nas-safu/analysis/PhDsdigiove/method_coAcces/data/BALL/communities_broad/res_0_9/community_size.png\", format=\"png\", dpi=300, bbox_inches=\"tight\")\n",
    "\n",
    "# Show the plot\n",
    "plt.show()"
   ]
  },
  {
   "cell_type": "markdown",
   "id": "b63b6c65",
   "metadata": {},
   "source": [
    "## Plotting Community trends"
   ]
  },
  {
   "cell_type": "code",
   "execution_count": 1,
   "id": "8f841938",
   "metadata": {},
   "outputs": [],
   "source": [
    "%matplotlib inline"
   ]
  },
  {
   "cell_type": "code",
   "execution_count": 4,
   "id": "0c167af4",
   "metadata": {},
   "outputs": [],
   "source": [
    "communities_list_sp_df = loading_comminity_from_folder(\"/mnt/nas-safu/analysis/PhDsdigiove/method_coAcces/data/BALL/communities_broad/res_0_9/beds/\")\n",
    "\n",
    "communities_list_sp = []\n",
    "for comm in sorted(set(communities_list_sp_df.community)) :\n",
    "    # print(comm)\n",
    "    #print(len(communities_list_sp_df.loc[communities_list_sp_df['community' ] == comm , 'sites'].tolist()) ) \n",
    "    communities_list_sp.append(communities_list_sp_df.loc[communities_list_sp_df['community' ] == comm , 'sites'].tolist())"
   ]
  },
  {
   "cell_type": "code",
   "execution_count": 5,
   "id": "bbf4dbd3",
   "metadata": {},
   "outputs": [],
   "source": [
    "def boxplot_with_median(data, **kwargs):\n",
    "    ax = plt.gca()\n",
    "    #sns.boxplot(data=data,  x = 'original_column' , y = 'expression', ax=ax, order=None)\n",
    "    \n",
    "    # Compute median per facet and draw a line\n",
    "    median = data[\"expression\"].median()\n",
    "    ax.axhline(median, color=\"red\", linestyle=\"--\", linewidth=2, label=f\"Median: {median:.2f}\")\n",
    "    ax.set_xticklabels(ax.get_xticklabels(), rotation=45)"
   ]
  },
  {
   "cell_type": "code",
   "execution_count": null,
   "id": "911d44e6",
   "metadata": {},
   "outputs": [],
   "source": [
    "patient_groups = {\"Healthy\": 6, \"Primary\": 11 , \"Remission\":8 , \"Relapse\":8  }\n",
    "order = [\"Healthy\", \"Primary\", \"Remission\", \"Relapse\"]\n",
    "data_matrix_df = pd.read_csv(\"/mnt/nas-safu/analysis/PhDsdigiove/method_coAcces/data/BALL/allPatientsPatientsNOMERGED_Ball_Multicov_nfcore.tsv\" , sep = \"\\t\" , index_col = \"peaks\" )\n",
    "data_matrix_df.columns = [\"6_Healthy\",\"9_Healthy\",\"4_Healthy\",\"7_Healthy\",\"5_Healthy\",\"8_Healthy\",\"14_Primary\",\"12_Primary\",\"10_Primary\",\"13_Primary\",\"11_Primary\",\"16_Primary\",\"7_Primary\",\"19_Primary\",\"17_Primary\",\"27_Primary\",\"26_Primary\",\"21_Remission\",\"22_Remission\",\"18_Remission\",\"26_Remission\",\"20_Remission\",\"25_Remission\",\"23_Remission\",\"24_Remission\",\"31_Relapse\",\"28_Relapse\",\"29_Relapse\",\"33_Relapse\",\"32_Relapse\",\"27_Relapse\",\"30_Relapse\",\"14_Relapse\",]\n",
    "\n",
    "id_vars =list(data_matrix_df.index)\n",
    "value_vars = [col for col in data_matrix_df.columns if col not in id_vars]\n",
    "\n",
    "#myorder = ['MUD4', 'MUD5','MUD6', 'MUD7', 'MUD8', 'MUD9',  'ES26', 'ES27', 'ES10','ES11', 'ES12', 'ES13', 'ES16', 'ES7', 'ES17', \"ES100\",'ES19', 'ES14', 'REM23','REM24', 'REM25', 'REM26', 'REM20', 'REM21', 'REM18','REM18', 'REC29', 'REC30', 'REC31', 'REC32', 'REC33', 'REC14', 'REC27']\n",
    "\n",
    "group_mapping = {}\n",
    "start_idx = 0\n",
    "for group_name, size in patient_groups.items():\n",
    "    for i in range(size):\n",
    "        group_mapping[value_vars[start_idx + i]] = group_name\n",
    "    start_idx += size\n",
    "\n",
    "data_matrix_df = pd.read_csv(\"/mnt/nas-safu/analysis/PhDsdigiove/method_coAcces/data/BALL/allPatientsPatientsNOMERGED_Ball_Multicov_nfcore.tsv\" , sep = \"\\t\" , index_col = \"peaks\" )\n",
    "data_matrix_df.columns = [\"6_Healthy\",\"9_Healthy\",\"4_Healthy\",\"7_Healthy\",\"5_Healthy\",\"8_Healthy\",\"14_Primary\",\"12_Primary\",\"10_Primary\",\"13_Primary\",\"11_Primary\",\"16_Primary\",\"7_Primary\",\"19_Primary\",\"17_Primary\",\"27_Primary\",\"26_Primary\",\"21_Remission\",\"22_Remission\",\"18_Remission\",\"26_Remission\",\"20_Remission\",\"25_Remission\",\"23_Remission\",\"24_Remission\",\"31_Relapse\",\"28_Relapse\",\"29_Relapse\",\"33_Relapse\",\"32_Relapse\",\"27_Relapse\",\"30_Relapse\",\"14_Relapse\",]\n",
    "data_matrix_df = data_matrix_df.apply(zscore , axis=1)\n",
    "\n",
    "for x in range(0,len(communities_list_sp)) :\n",
    "    #plt.figure(figsize=(3,5))\n",
    "    melted = pd.melt(\n",
    "        data_matrix_df.loc[communities_list_sp[x],:],\n",
    "        value_vars=value_vars,\n",
    "        var_name=\"original_column\",\n",
    "        value_name=\"expression\"\n",
    "    )\n",
    "    melted[\"group\"] = melted[\"original_column\"].map(group_mapping)\n",
    "    melted[\"group\"] = pd.Categorical(melted[\"group\"], categories= order, ordered=True)\n",
    "    \n",
    "    facet_colors = {\n",
    "        \"Healthy\": \"#66c5cc\",\n",
    "        \"Primary\": \"#ff6767\",\n",
    "        \"Remission\": \"#ffdb84\",\n",
    "        \"Relapse\":\"#ff951f\" \n",
    "    }\n",
    "\n",
    "    print(x)\n",
    "    g = sns.FacetGrid(melted, col=\"group\" , sharex=False  ,ylim=(-5,5) )\n",
    "    g.fig.set_size_inches(9, 5)\n",
    "    g.map_dataframe(sns.violinplot, x = 'original_column' , y = 'expression' , hue = \"group\" , palette= facet_colors )\n",
    "    g.map_dataframe(boxplot_with_median)\n",
    "    g.set_titles(\"\")\n",
    "    g.set_axis_labels(\"\", \"Z-score\")\n",
    "    for ax in g.axes.flat:\n",
    "        ax.tick_params(axis='both', labelsize=7)\n",
    "    # plt.legend(bbox_to_anchor=(1.02, 1), loc='upper left', borderaxespad=0)\n",
    "    #plt.gca().set_xticklabels(['0min','30min','60min','90min','120min','240min','360min','1440min']) \n",
    "    path_to_save = '/mnt/nas-safu/analysis/PhDsdigiove/method_coAcces/data/BALL/communities_broad/res_0_9/comm_trends/Facets_boxplots_normCountsOnly_comm' + str(x) + \"_ATAC_trend.png\"\n",
    "    g.savefig(path_to_save, dpi=300, bbox_inches=\"tight\")\n",
    "    plt.show()"
   ]
  },
  {
   "cell_type": "code",
   "execution_count": null,
   "id": "861b8867",
   "metadata": {},
   "outputs": [],
   "source": [
    "files = os.listdir('/mnt/nas-safu/analysis/PhDsdigiove/method_coAcces/data/BALL/communities_broad/res_0_9/homer_annotation/')\n",
    "i = 0\n",
    "for f in files:\n",
    "    et = transform_annotation_homer('/mnt/nas-safu/analysis/PhDsdigiove/method_coAcces/data/BALL/communities_broad/res_0_9/homer_annotation/{}'.format(f))\n",
    "    et['community'] = f\n",
    "\n",
    "    if i == 0 :\n",
    "        final_df_annot = et\n",
    "    else :\n",
    "        final_df_annot = pd.concat([final_df_annot , et ])\n",
    "    i = 1\n",
    "\n",
    "final_annotation_prova = genomic_position_stackbar(communities_list_sp, final_df_annot) #_noPC\n",
    "\n",
    "x_var, y_var = \"community_numebr\", \"GenomicRegion\"\n",
    "df_grouped = final_annotation_prova.groupby(x_var)[y_var].value_counts(normalize=True).unstack(y_var)\n",
    "df_grouped = df_grouped.iloc[::-1]\n",
    "df_grouped.plot.barh(stacked=True)\n",
    "plt.legend(\n",
    "    bbox_to_anchor=(0.5, 1.02),\n",
    "    loc=\"lower center\",\n",
    "    borderaxespad=0,\n",
    "    frameon=False,\n",
    "    ncol=3,\n",
    ")\n",
    "for ix, row in df_grouped.reset_index(drop=True).iterrows():\n",
    "    cumulative = 0\n",
    "    for element in row:\n",
    "        if element == element and element > 0.1:\n",
    "            plt.text(\n",
    "                cumulative + element / 2,\n",
    "                ix,\n",
    "                f\"{int(element * 100)} %\",\n",
    "                va=\"center\",\n",
    "                ha=\"center\",\n",
    "            )\n",
    "        cumulative += element\n",
    "plt.tight_layout()\n",
    "# plt.savefig('/mnt/nas-safu/analysis/PhDsdigiove/method_coAcces/data/BALL/communities_broad/res_0_9/stacked_community_inverted.png', bbox_inches='tight' , dpi=300)"
   ]
  }
 ],
 "metadata": {
  "kernelspec": {
   "display_name": "simba",
   "language": "python",
   "name": "python3"
  },
  "language_info": {
   "name": "python"
  }
 },
 "nbformat": 4,
 "nbformat_minor": 5
}
